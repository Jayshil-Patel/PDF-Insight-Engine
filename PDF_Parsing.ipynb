{
 "cells": [
  {
   "cell_type": "code",
   "execution_count": 2,
   "metadata": {},
   "outputs": [],
   "source": [
    "from PyPDF2 import PdfReader\n",
    "# def get_text(pdf_docs):\n",
    "\n",
    "#     text = ''\n",
    "#     for pdf in pdf_docs:\n",
    "#         pdf_reader = PdfReader(pdf)\n",
    "#         for page in pdf_reader.pages:\n",
    "#             text += page.extract_text()\n",
    "#     return text\n",
    "\n",
    "# def get_text(pdf_docs):\n",
    "#     text = ''\n",
    "#     for pdf_path in pdf_docs:\n",
    "#         with open(pdf_path, 'rb') as file:\n",
    "#             pdf_reader = PdfReader(file)\n",
    "#             for page in pdf_reader.pages:\n",
    "#                 text += page.extract_text()\n",
    "#     return text\n",
    "# file = open(\"budget_speech.pdf\")\n",
    "\n",
    "#   "
   ]
  },
  {
   "cell_type": "code",
   "execution_count": 2,
   "metadata": {},
   "outputs": [],
   "source": [
    "# reader = PdfReader(\"example.pdf\")\n",
    "# number_of_pages = len(reader.pages)\n",
    "# page = reader.pages[0]\n",
    "# text = page.extract_text()"
   ]
  },
  {
   "cell_type": "code",
   "execution_count": 3,
   "metadata": {},
   "outputs": [],
   "source": [
    "reader = PdfReader(\"budget_speech.pdf\")\n",
    "number_of_pages = len(reader.pages)"
   ]
  },
  {
   "cell_type": "code",
   "execution_count": 4,
   "metadata": {},
   "outputs": [],
   "source": [
    "text = ''\n",
    "for page in reader.pages:\n",
    "    text += page.extract_text()\n"
   ]
  },
  {
   "cell_type": "code",
   "execution_count": 5,
   "metadata": {},
   "outputs": [
    {
     "data": {
      "text/plain": [
       "89281"
      ]
     },
     "execution_count": 5,
     "metadata": {},
     "output_type": "execute_result"
    }
   ],
   "source": [
    "len(text)"
   ]
  }
 ],
 "metadata": {
  "kernelspec": {
   "display_name": ".venv",
   "language": "python",
   "name": "python3"
  },
  "language_info": {
   "codemirror_mode": {
    "name": "ipython",
    "version": 3
   },
   "file_extension": ".py",
   "mimetype": "text/x-python",
   "name": "python",
   "nbconvert_exporter": "python",
   "pygments_lexer": "ipython3",
   "version": "0.0.0"
  }
 },
 "nbformat": 4,
 "nbformat_minor": 2
}
